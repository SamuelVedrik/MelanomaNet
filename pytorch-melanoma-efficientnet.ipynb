{
 "cells": [
  {
   "cell_type": "code",
   "execution_count": 1,
   "metadata": {},
   "outputs": [
    {
     "name": "stdout",
     "output_type": "stream",
     "text": [
      "\u001b[33mWARNING: You are using pip version 20.1.1; however, version 20.2 is available.\r\n",
      "You should consider upgrading via the '/opt/conda/bin/python3.7 -m pip install --upgrade pip' command.\u001b[0m\r\n"
     ]
    }
   ],
   "source": [
    "!pip -q install jcopdl efficientnet_pytorch"
   ]
  },
  {
   "cell_type": "code",
   "execution_count": 2,
   "metadata": {
    "_cell_guid": "79c7e3d0-c299-4dcb-8224-4455121ee9b0",
    "_uuid": "d629ff2d2480ee46fbb7e2d37f6b5fab8052498a"
   },
   "outputs": [],
   "source": [
    "import numpy as np\n",
    "import pandas as pd\n",
    "import matplotlib.pyplot as plt\n",
    "import os\n",
    "from PIL import Image\n",
    "from tqdm import tqdm\n",
    "from time import sleep\n",
    "\n",
    "from sklearn.preprocessing import OneHotEncoder, StandardScaler\n",
    "from sklearn.model_selection import train_test_split\n",
    "from sklearn.metrics import roc_auc_score\n",
    "\n",
    "import torch\n",
    "import torch.nn as nn\n",
    "import torch.nn.functional as F\n",
    "from torchvision.transforms import transforms\n",
    "from torch.utils.data import Dataset, DataLoader\n",
    "\n",
    "import jcopdl\n",
    "from jcopdl.callback import Callback, set_config\n",
    "\n",
    "from efficientnet_pytorch import EfficientNet\n"
   ]
  },
  {
   "cell_type": "code",
   "execution_count": 3,
   "metadata": {},
   "outputs": [],
   "source": [
    "TRAIN_IMAGES_PATH = \"/kaggle/input/siim-isic-train-resized/\"\n",
    "TEST_IMAGES_PATH = \"/kaggle/input/siim-isic-test-resized/\"\n",
    "TEST_DF_PATH = \"/kaggle/input/siim-isic-melanoma-classification/test.csv\"\n",
    "TRAIN_DF_PATH = \"/kaggle/input/siim-isic-melanoma-classification/train.csv\"\n",
    "\n",
    "config = set_config(dict(image_size=(256, 256), hidden_layer=600, dropout=0.4, batch_size=32, lr=1e-4))\n",
    "device = torch.device(\"cuda\" if torch.cuda.is_available() else \"cpu\")"
   ]
  },
  {
   "cell_type": "markdown",
   "execution_count": null,
   "metadata": {},
   "source": [
    "## Data preprocessing and loading\n"
   ]
  },
  {
   "cell_type": "code",
   "execution_count": 4,
   "metadata": {},
   "outputs": [],
   "source": [
    "class MelanomaDataset(Dataset):\n",
    "    \n",
    "    def __init__(self, df, SS, OHE, transform=None, test=False):\n",
    "        \n",
    "    \n",
    "        self.df = df\n",
    "        self._ages = SS.transform(self.df[[\"age_approx\"]])\n",
    "        self._oh_categories = OHE.transform(self.df[[\"sex\", \"anatom_site_general_challenge\"]])\n",
    "        self.transform = transform\n",
    "        self._test = test\n",
    "        \n",
    "    def __getitem__(self, idx):\n",
    "        if torch.is_tensor(idx):\n",
    "            idx = idx.tolist()\n",
    "            \n",
    "        image = Image.open(self.df[\"image_name\"].iloc[idx])\n",
    "        age = self._ages[idx]\n",
    "        oh_categories = self._oh_categories[idx]\n",
    "        meta = np.r_[age, oh_categories].astype(np.float32)\n",
    "        \n",
    "        if self.transform:\n",
    "            image = self.transform(image)\n",
    "        \n",
    "        if not self._test: \n",
    "            target = self.df[\"target\"].iloc[idx]\n",
    "            return (image, meta), target\n",
    "        else:\n",
    "            return image, meta\n",
    "        \n",
    "    \n",
    "    def __len__(self):\n",
    "        \n",
    "        return self.df.shape[0]\n",
    "        \n",
    "        "
   ]
  },
  {
   "cell_type": "code",
   "execution_count": 5,
   "metadata": {},
   "outputs": [],
   "source": [
    "class MelanomaDatasetBuilder():\n",
    "    \n",
    "    def __init__(self, train_csv, test_csv):\n",
    "        \n",
    "        self.df_train = pd.read_csv(train_csv)\n",
    "        self.df_test = pd.read_csv(test_csv)\n",
    "        \n",
    "        self.df_train = self._preprocess(self.df_train)\n",
    "        self.df_test = self._preprocess(self.df_test, test=True)\n",
    "        \n",
    "        # Splitting the validation and training \n",
    "        self.df_train, self.df_val = train_test_split(self.df_train, stratify=self.df_train[\"target\"], test_size=0.1)\n",
    "        \n",
    "        self.SS, self.OHE = StandardScaler(), OneHotEncoder(sparse=False)\n",
    "        self.SS.fit(self.df_train[[\"age_approx\"]])\n",
    "        self.OHE.fit(self.df_train[[\"sex\", \"anatom_site_general_challenge\"]])\n",
    "        \n",
    "        \n",
    "    \n",
    "    def __call__(self, train_transform=None, test_transform=None):\n",
    "        \n",
    "        train_dataset = MelanomaDataset(self.df_train, self.SS, self.OHE, train_transform)\n",
    "        val_dataset = MelanomaDataset(self.df_val, self.SS, self.OHE, test_transform)\n",
    "        test_dataset = MelanomaDataset(self.df_test, self.SS, self.OHE, test_transform, test=True)\n",
    "\n",
    "        return train_dataset, val_dataset, test_dataset\n",
    "    \n",
    "    def _preprocess(self, df, test=False):\n",
    "        \n",
    "        df = df.fillna({\"sex\": \"male\",\n",
    "                                  \"age_approx\": self.df_train[\"age_approx\"].mode().iloc[0],\n",
    "                                  \"anatom_site_general_challenge\": \"torso\"})\n",
    "        \n",
    "        DIR = TEST_IMAGES_PATH if test else TRAIN_IMAGES_PATH\n",
    "        \n",
    "        df[\"image_name\"] = df[\"image_name\"].apply(lambda x : DIR + x + \".jpg\")\n",
    "        \n",
    "        return df\n",
    "        \n",
    "        \n",
    "    \n",
    "        "
   ]
  },
  {
   "cell_type": "code",
   "execution_count": 6,
   "metadata": {},
   "outputs": [],
   "source": [
    "dataset_builder = MelanomaDatasetBuilder(TRAIN_DF_PATH, TEST_DF_PATH)\n",
    "\n",
    "train_transforms = transforms.Compose([\n",
    "    transforms.RandomResizedCrop(size=config.image_size, scale=(0.7, 1.0)),\n",
    "    transforms.RandomHorizontalFlip(),\n",
    "    transforms.RandomVerticalFlip(),\n",
    "    transforms.ColorJitter(brightness=32. / 255.,saturation=0.5),\n",
    "    transforms.ToTensor(),\n",
    "    transforms.Normalize(mean=[0.485, 0.456, 0.406],std=[0.229, 0.224, 0.225])\n",
    "])\n",
    "\n",
    "test_transforms = transforms.Compose([\n",
    "     transforms.ToTensor(),\n",
    "    transforms.Normalize(mean=[0.485, 0.456, 0.406],std=[0.229, 0.224, 0.225])\n",
    "])\n",
    "\n",
    "train_dataset, val_dataset, test_dataset = dataset_builder(train_transforms, test_transforms)\n",
    "train_dataloader = DataLoader(train_dataset, batch_size=config.batch_size, shuffle=True)\n",
    "val_dataloader, test_dataloader = DataLoader(val_dataset, batch_size=1), DataLoader(test_dataset, batch_size=1)"
   ]
  },
  {
   "cell_type": "code",
   "execution_count": 7,
   "metadata": {},
   "outputs": [],
   "source": [
    "class LinLeakBNDrop(nn.Module):\n",
    "    \n",
    "    def __init__(self, in_features, out_features, dropout):\n",
    "        \n",
    "        super().__init__()\n",
    "        \n",
    "        self.layer = nn.Sequential(\n",
    "            nn.Linear(in_features, out_features), \n",
    "            nn.LeakyReLU(), \n",
    "            nn.BatchNorm1d(out_features), \n",
    "            nn.Dropout(dropout)\n",
    "        )\n",
    "        \n",
    "    def forward(self, x):\n",
    "        \n",
    "        return self.layer(x)\n",
    "\n",
    "class LinELUBNDrop(nn.Module):\n",
    "    \n",
    "    def __init__(self, in_features, out_features, dropout):\n",
    "        \n",
    "        super().__init__()\n",
    "        \n",
    "        self.layer = nn.Sequential(\n",
    "            nn.Linear(in_features, out_features), \n",
    "            nn.ELU(), \n",
    "            nn.BatchNorm1d(out_features), \n",
    "            nn.Dropout(dropout)\n",
    "        )\n",
    "        \n",
    "    def forward(self, x):\n",
    "        \n",
    "        return self.layer(x)\n",
    "    \n",
    "\n",
    "class MelanomaDense(nn.Module):\n",
    "    \n",
    "    def __init__(self, in_features, hidden_layer=400, dropout=0.3):\n",
    "        \n",
    "        super().__init__()\n",
    "        \n",
    "        self.layer = nn.Sequential(\n",
    "            LinELUBNDrop(in_features, hidden_layer, dropout), \n",
    "            LinELUBNDrop(hidden_layer, hidden_layer, dropout),\n",
    "            LinELUBNDrop(hidden_layer, hidden_layer, dropout)\n",
    "        )\n",
    "        \n",
    "        self.out_features = hidden_layer\n",
    "        \n",
    "    def forward(self, x):\n",
    "        \n",
    "        return self.layer(x)\n",
    "        \n",
    "\n",
    "class MelanomaNet(nn.Module):\n",
    "    \n",
    "    def __init__(self, base_model):\n",
    "        \"\"\"\n",
    "        Base Model is expected to be an efficient net. \n",
    "        \"\"\"\n",
    "        \n",
    "        super().__init__()\n",
    "        \n",
    "        self.base_model = base_model\n",
    "        self.base_model._fc = LinELUBNDrop(self.base_model._fc.in_features, config.hidden_layer, config.dropout)\n",
    "#         self.base_model._fc = nn.Linear(self.base_model._fc.in_features, config.hidden_layer)\n",
    "        \n",
    "        self.dense = MelanomaDense(9, config.hidden_layer, config.dropout)\n",
    "        \n",
    "        self.output = nn.Linear(config.hidden_layer + config.hidden_layer, 1)\n",
    "        \n",
    "        \n",
    "        \n",
    "    def forward(self, x):\n",
    "        \n",
    "        image, meta = x\n",
    "        outCNN = self.base_model(image)\n",
    "        outDNN = self.dense(meta)\n",
    "        \n",
    "        features = torch.cat((outCNN, outDNN), dim=1)\n",
    "        return self.output(features)\n",
    "    \n",
    "    def freeze(self):\n",
    "        \n",
    "        for name, child in self.base_model.named_children():\n",
    "            if name != \"_fc\":\n",
    "                for param in child.parameters():\n",
    "                    param.requires_grad = False\n",
    "        \n",
    "    \n",
    "    def unfreeze(self):\n",
    "        \n",
    "        for param in self.base_model.parameters():\n",
    "            param.requires_grad = True\n",
    "        \n",
    "        "
   ]
  },
  {
   "cell_type": "code",
   "execution_count": 8,
   "metadata": {},
   "outputs": [
    {
     "name": "stderr",
     "output_type": "stream",
     "text": [
      "Downloading: \"https://github.com/lukemelas/EfficientNet-PyTorch/releases/download/1.0/efficientnet-b4-6ed6700e.pth\" to /root/.cache/torch/checkpoints/efficientnet-b4-6ed6700e.pth\n"
     ]
    },
    {
     "data": {
      "application/vnd.jupyter.widget-view+json": {
       "model_id": "2775fe19b4c84e58bbc0bd1b9ef6f801",
       "version_major": 2,
       "version_minor": 0
      },
      "text/plain": [
       "HBox(children=(FloatProgress(value=0.0, max=77999237.0), HTML(value='')))"
      ]
     },
     "metadata": {},
     "output_type": "display_data"
    },
    {
     "name": "stdout",
     "output_type": "stream",
     "text": [
      "\n",
      "Loaded pretrained weights for efficientnet-b4\n"
     ]
    }
   ],
   "source": [
    "base_model = EfficientNet.from_pretrained(\"efficientnet-b4\")\n",
    "model = MelanomaNet(base_model)\n",
    "model = model.to(device)\n",
    "model.freeze()"
   ]
  },
  {
   "cell_type": "code",
   "execution_count": 9,
   "metadata": {},
   "outputs": [],
   "source": [
    "criterion = nn.BCEWithLogitsLoss()\n",
    "optimizer= torch.optim.AdamW(model.parameters(), lr=config.lr)\n",
    "scheduler = torch.optim.lr_scheduler.ReduceLROnPlateau(optimizer, mode=\"max\", factor=0.2, patience=2)\n",
    "callback = Callback(model, config, early_stop_patience=4, outdir=\"model\")"
   ]
  },
  {
   "cell_type": "code",
   "execution_count": 10,
   "metadata": {},
   "outputs": [],
   "source": [
    "class ModelTrainer():\n",
    "    \n",
    "    def __init__(self, model, criterion, optimizer, scheduler,  device, callback, tqdm=True):\n",
    "        \n",
    "        self.model = model\n",
    "        self.criterion = criterion\n",
    "        self.optimizer = optimizer\n",
    "        self.scheduler = scheduler\n",
    "        self.callback = callback \n",
    "        self.device = device\n",
    "        self.tqdm = tqdm\n",
    "        \n",
    "        self.epoch = 1\n",
    "        \n",
    "        \n",
    "    def train_loop(self, train_dataloader):\n",
    "        \n",
    "        cost = 0\n",
    "        self.model.train()\n",
    "        \n",
    "        train_pred = torch.zeros(len(train_dataloader.dataset), 1, dtype=torch.float32, device = self.device, requires_grad=False)\n",
    "        train_true = torch.zeros(len(train_dataloader.dataset), 1, dtype=torch.float32, device = self.device, requires_grad=False)\n",
    "        \n",
    "        t = tqdm(train_dataloader, desc=f\"Epoch {self.epoch}\") if self.tqdm == True else train_dataloader\n",
    "        \n",
    "        for i, (features, target) in enumerate(t):\n",
    "            \n",
    "            features[0] = features[0].to(device)\n",
    "            features[1] = features[1].to(device)\n",
    "            target = target.to(device).float()\n",
    "            \n",
    "            pred = self.model(features)\n",
    "            loss = self.criterion(pred, target.unsqueeze(1))\n",
    "            loss.backward()\n",
    "            \n",
    "            self.optimizer.step()\n",
    "            self.optimizer.zero_grad()\n",
    "            \n",
    "            cost += loss.item() * features[1].shape[0]\n",
    "            \n",
    "            train_true[i*train_dataloader.batch_size:min((i+1)*train_dataloader.batch_size, len(train_dataloader.dataset))]=\\\n",
    "            target.unsqueeze(1)\n",
    "            \n",
    "            train_pred[i*train_dataloader.batch_size:min((i+1)*train_dataloader.batch_size, len(train_dataloader.dataset))]=\\\n",
    "            pred\n",
    "            \n",
    "        roc = roc_auc_score(train_true.cpu().detach().numpy(), train_pred.cpu().detach\n",
    "                            ().numpy())\n",
    "        \n",
    "        return cost / len(train_dataloader.dataset), roc\n",
    "    \n",
    "    \n",
    "    def validate_loop(self, val_dataloader):\n",
    "        \n",
    "        cost = 0\n",
    "        roc = 0\n",
    "        self.model.eval()\n",
    "        \n",
    "        val_preds = torch.zeros(len(val_dataloader.dataset), 1, dtype=torch.float32, device=self.device)\n",
    "        val_true = torch.zeros(len(val_dataloader.dataset), 1, dtype=torch.float32, device=self.device)\n",
    "        \n",
    "        t = tqdm(val_dataloader, desc=f\"Epoch {self.epoch}\") if self.tqdm == True else val_dataloader\n",
    "        \n",
    "        with torch.no_grad():\n",
    "            for i, (features, target) in enumerate(t):\n",
    "                features[0] = features[0].to(device)\n",
    "                features[1] = features[1].to(device)\n",
    "                target = target.to(device).float()\n",
    "            \n",
    "                pred = self.model(features)\n",
    "                loss = self.criterion(pred, target.unsqueeze(1)) \n",
    "                cost += loss.item() * features[1].shape[0]\n",
    "                val_preds[i] = pred\n",
    "                val_true[i] = target\n",
    "                \n",
    "        \n",
    "        roc = roc_auc_score(val_true.cpu().numpy(), val_preds.cpu().numpy())\n",
    "        \n",
    "        return (cost / len(val_dataloader.dataset)), roc\n",
    "    \n",
    "    def train(self, train_dataloader, val_dataloader, max_epochs=np.inf):\n",
    "        \n",
    "        while self.epoch < max_epochs:\n",
    "            train_cost, train_score = self.train_loop(train_dataloader)\n",
    "            val_cost, val_score = self.validate_loop(val_dataloader)\n",
    "            \n",
    "            self.scheduler.step(val_score)\n",
    "            self.epoch += 1\n",
    "            \n",
    "            _ = self.callback.log(train_cost, val_cost, train_score, val_score)\n",
    "            _ = self.callback.save_checkpoint()\n",
    "        \n",
    "            if self.callback.early_stopping(self.model, monitor=\"test_score\"):\n",
    "                self.callback.plot_cost()\n",
    "                self.callback.plot_score()\n",
    "                break"
   ]
  },
  {
   "cell_type": "code",
   "execution_count": 11,
   "metadata": {},
   "outputs": [
    {
     "name": "stderr",
     "output_type": "stream",
     "text": [
      "Epoch 1: 100%|██████████| 932/932 [06:29<00:00,  2.39it/s]\n",
      "Epoch 1: 100%|██████████| 3313/3313 [01:49<00:00, 30.19it/s]\n",
      "Epoch 2:   0%|          | 0/932 [00:00<?, ?it/s]"
     ]
    },
    {
     "name": "stdout",
     "output_type": "stream",
     "text": [
      "\n",
      "Epoch     1\n",
      "Train_cost  = 0.4208 | Test_cost  = 0.1601 | Train_score = 0.5798 | Test_score = 0.6111 |\n"
     ]
    },
    {
     "name": "stderr",
     "output_type": "stream",
     "text": [
      "Epoch 2: 100%|██████████| 932/932 [05:40<00:00,  2.74it/s]\n",
      "Epoch 2: 100%|██████████| 3313/3313 [01:43<00:00, 31.87it/s]\n",
      "Epoch 3:   0%|          | 0/932 [00:00<?, ?it/s]"
     ]
    },
    {
     "name": "stdout",
     "output_type": "stream",
     "text": [
      "\n",
      "Epoch     2\n",
      "Train_cost  = 0.1298 | Test_cost  = 0.0864 | Train_score = 0.5930 | Test_score = 0.7755 |\n"
     ]
    },
    {
     "name": "stderr",
     "output_type": "stream",
     "text": [
      "Epoch 3: 100%|██████████| 932/932 [05:40<00:00,  2.74it/s]\n",
      "Epoch 3: 100%|██████████| 3313/3313 [01:43<00:00, 31.92it/s]\n",
      "Epoch 4:   0%|          | 0/932 [00:00<?, ?it/s]"
     ]
    },
    {
     "name": "stdout",
     "output_type": "stream",
     "text": [
      "\n",
      "Epoch     3\n",
      "Train_cost  = 0.0988 | Test_cost  = 0.0805 | Train_score = 0.6596 | Test_score = 0.7608 |\n",
      "\u001b[31m==> EarlyStop patience =  1 | Best test_score: 0.7755\u001b[0m\n"
     ]
    },
    {
     "name": "stderr",
     "output_type": "stream",
     "text": [
      "Epoch 4: 100%|██████████| 932/932 [05:39<00:00,  2.75it/s]\n",
      "Epoch 4: 100%|██████████| 3313/3313 [01:43<00:00, 31.89it/s]\n",
      "Epoch 5:   0%|          | 0/932 [00:00<?, ?it/s]"
     ]
    },
    {
     "name": "stdout",
     "output_type": "stream",
     "text": [
      "\n",
      "Epoch     4\n",
      "Train_cost  = 0.0945 | Test_cost  = 0.0762 | Train_score = 0.6851 | Test_score = 0.8176 |\n"
     ]
    },
    {
     "name": "stderr",
     "output_type": "stream",
     "text": [
      "Epoch 5: 100%|██████████| 932/932 [05:39<00:00,  2.74it/s]\n",
      "Epoch 5: 100%|██████████| 3313/3313 [01:43<00:00, 31.98it/s]\n",
      "Epoch 6:   0%|          | 0/932 [00:00<?, ?it/s]"
     ]
    },
    {
     "name": "stdout",
     "output_type": "stream",
     "text": [
      "\n",
      "Epoch     5\n",
      "Train_cost  = 0.0914 | Test_cost  = 0.0724 | Train_score = 0.7138 | Test_score = 0.8384 |\n"
     ]
    },
    {
     "name": "stderr",
     "output_type": "stream",
     "text": [
      "Epoch 6: 100%|██████████| 932/932 [05:38<00:00,  2.75it/s]\n",
      "Epoch 6: 100%|██████████| 3313/3313 [01:43<00:00, 32.00it/s]\n",
      "Epoch 7:   0%|          | 0/932 [00:00<?, ?it/s]"
     ]
    },
    {
     "name": "stdout",
     "output_type": "stream",
     "text": [
      "\n",
      "Epoch     6\n",
      "Train_cost  = 0.0886 | Test_cost  = 0.0700 | Train_score = 0.7281 | Test_score = 0.8676 |\n"
     ]
    },
    {
     "name": "stderr",
     "output_type": "stream",
     "text": [
      "Epoch 7: 100%|██████████| 932/932 [05:39<00:00,  2.75it/s]\n",
      "Epoch 7: 100%|██████████| 3313/3313 [01:42<00:00, 32.33it/s]\n",
      "Epoch 8:   0%|          | 0/932 [00:00<?, ?it/s]"
     ]
    },
    {
     "name": "stdout",
     "output_type": "stream",
     "text": [
      "\n",
      "Epoch     7\n",
      "Train_cost  = 0.0863 | Test_cost  = 0.0712 | Train_score = 0.7432 | Test_score = 0.8464 |\n",
      "\u001b[31m==> EarlyStop patience =  1 | Best test_score: 0.8676\u001b[0m\n"
     ]
    },
    {
     "name": "stderr",
     "output_type": "stream",
     "text": [
      "Epoch 8: 100%|██████████| 932/932 [05:39<00:00,  2.75it/s]\n",
      "Epoch 8: 100%|██████████| 3313/3313 [01:43<00:00, 32.01it/s]\n",
      "Epoch 9:   0%|          | 0/932 [00:00<?, ?it/s]"
     ]
    },
    {
     "name": "stdout",
     "output_type": "stream",
     "text": [
      "\n",
      "Epoch     8\n",
      "Train_cost  = 0.0859 | Test_cost  = 0.0703 | Train_score = 0.7347 | Test_score = 0.8537 |\n",
      "\u001b[31m==> EarlyStop patience =  2 | Best test_score: 0.8676\u001b[0m\n"
     ]
    },
    {
     "name": "stderr",
     "output_type": "stream",
     "text": [
      "Epoch 9: 100%|██████████| 932/932 [05:37<00:00,  2.76it/s]\n",
      "Epoch 9: 100%|██████████| 3313/3313 [01:42<00:00, 32.46it/s]\n",
      "Epoch 10:   0%|          | 0/932 [00:00<?, ?it/s]"
     ]
    },
    {
     "name": "stdout",
     "output_type": "stream",
     "text": [
      "\n",
      "Epoch     9\n",
      "Train_cost  = 0.0831 | Test_cost  = 0.0708 | Train_score = 0.7584 | Test_score = 0.8520 |\n",
      "\u001b[31m==> EarlyStop patience =  3 | Best test_score: 0.8676\u001b[0m\n"
     ]
    },
    {
     "name": "stderr",
     "output_type": "stream",
     "text": [
      "Epoch 10: 100%|██████████| 932/932 [05:37<00:00,  2.76it/s]\n",
      "Epoch 10: 100%|██████████| 3313/3313 [01:42<00:00, 32.46it/s]\n"
     ]
    },
    {
     "name": "stdout",
     "output_type": "stream",
     "text": [
      "\n",
      "Epoch    10\n",
      "Train_cost  = 0.0814 | Test_cost  = 0.0714 | Train_score = 0.7695 | Test_score = 0.8648 |\n",
      "\u001b[31m==> EarlyStop patience =  4 | Best test_score: 0.8676\u001b[0m\n",
      "\u001b[31m==> Execute Early Stopping at epoch: 10 | Best test_score: 0.8676\u001b[0m\n",
      "\u001b[31m==> Best model is saved at model\u001b[0m\n"
     ]
    },
    {
     "data": {
      "image/png": "[encoded data removed]",
      "text/plain": [
       "<Figure size 576x360 with 1 Axes>"
      ]
     },
     "metadata": {
      "needs_background": "light"
     },
     "output_type": "display_data"
    },
    {
     "data": {
      "image/png": "[encoded data removed]",
      "text/plain": [
       "<Figure size 576x360 with 1 Axes>"
      ]
     },
     "metadata": {
      "needs_background": "light"
     },
     "output_type": "display_data"
    }
   ],
   "source": [
    "modeltrainer = ModelTrainer(model, criterion, optimizer, scheduler, device, callback, tqdm=True)\n",
    "modeltrainer.train(train_dataloader, val_dataloader)"
   ]
  },
  {
   "cell_type": "code",
   "execution_count": 12,
   "metadata": {},
   "outputs": [
    {
     "name": "stderr",
     "output_type": "stream",
     "text": [
      "Epoch 11: 100%|██████████| 932/932 [11:13<00:00,  1.38it/s]\n",
      "Epoch 11: 100%|██████████| 3313/3313 [01:44<00:00, 31.73it/s]\n",
      "Epoch 12:   0%|          | 0/932 [00:00<?, ?it/s]"
     ]
    },
    {
     "name": "stdout",
     "output_type": "stream",
     "text": [
      "\n",
      "Epoch    11\n",
      "Train_cost  = 0.0845 | Test_cost  = 0.0672 | Train_score = 0.7600 | Test_score = 0.8947 |\n"
     ]
    },
    {
     "name": "stderr",
     "output_type": "stream",
     "text": [
      "Epoch 12: 100%|██████████| 932/932 [11:13<00:00,  1.38it/s]\n",
      "Epoch 12: 100%|██████████| 3313/3313 [01:44<00:00, 31.71it/s]\n",
      "Epoch 13:   0%|          | 0/932 [00:00<?, ?it/s]"
     ]
    },
    {
     "name": "stdout",
     "output_type": "stream",
     "text": [
      "\n",
      "Epoch    12\n",
      "Train_cost  = 0.0787 | Test_cost  = 0.0658 | Train_score = 0.8055 | Test_score = 0.8919 |\n",
      "\u001b[31m==> EarlyStop patience =  1 | Best test_score: 0.8947\u001b[0m\n"
     ]
    },
    {
     "name": "stderr",
     "output_type": "stream",
     "text": [
      "Epoch 13: 100%|██████████| 932/932 [11:17<00:00,  1.38it/s]\n",
      "Epoch 13: 100%|██████████| 3313/3313 [01:46<00:00, 31.04it/s]\n",
      "Epoch 14:   0%|          | 0/932 [00:00<?, ?it/s]"
     ]
    },
    {
     "name": "stdout",
     "output_type": "stream",
     "text": [
      "\n",
      "Epoch    13\n",
      "Train_cost  = 0.0775 | Test_cost  = 0.0647 | Train_score = 0.8139 | Test_score = 0.8972 |\n"
     ]
    },
    {
     "name": "stderr",
     "output_type": "stream",
     "text": [
      "Epoch 14: 100%|██████████| 932/932 [11:20<00:00,  1.37it/s]\n",
      "Epoch 14: 100%|██████████| 3313/3313 [01:45<00:00, 31.28it/s]\n",
      "Epoch 15:   0%|          | 0/932 [00:00<?, ?it/s]"
     ]
    },
    {
     "name": "stdout",
     "output_type": "stream",
     "text": [
      "\n",
      "Epoch    14\n",
      "Train_cost  = 0.0746 | Test_cost  = 0.0644 | Train_score = 0.8379 | Test_score = 0.8998 |\n"
     ]
    },
    {
     "name": "stderr",
     "output_type": "stream",
     "text": [
      "Epoch 15: 100%|██████████| 932/932 [11:16<00:00,  1.38it/s]\n",
      "Epoch 15: 100%|██████████| 3313/3313 [01:45<00:00, 31.48it/s]\n",
      "Epoch 16:   0%|          | 0/932 [00:00<?, ?it/s]"
     ]
    },
    {
     "name": "stdout",
     "output_type": "stream",
     "text": [
      "\n",
      "Epoch    15\n",
      "Train_cost  = 0.0727 | Test_cost  = 0.0643 | Train_score = 0.8479 | Test_score = 0.8979 |\n",
      "\u001b[31m==> EarlyStop patience =  1 | Best test_score: 0.8998\u001b[0m\n"
     ]
    },
    {
     "name": "stderr",
     "output_type": "stream",
     "text": [
      "Epoch 16: 100%|██████████| 932/932 [11:16<00:00,  1.38it/s]\n",
      "Epoch 16: 100%|██████████| 3313/3313 [01:48<00:00, 30.61it/s]\n",
      "Epoch 17:   0%|          | 0/932 [00:00<?, ?it/s]"
     ]
    },
    {
     "name": "stdout",
     "output_type": "stream",
     "text": [
      "\n",
      "Epoch    16\n",
      "Train_cost  = 0.0699 | Test_cost  = 0.0646 | Train_score = 0.8684 | Test_score = 0.8964 |\n",
      "\u001b[31m==> EarlyStop patience =  2 | Best test_score: 0.8998\u001b[0m\n"
     ]
    },
    {
     "name": "stderr",
     "output_type": "stream",
     "text": [
      "Epoch 17: 100%|██████████| 932/932 [11:24<00:00,  1.36it/s]\n",
      "Epoch 17: 100%|██████████| 3313/3313 [01:47<00:00, 30.73it/s]\n",
      "Epoch 18:   0%|          | 0/932 [00:00<?, ?it/s]"
     ]
    },
    {
     "name": "stdout",
     "output_type": "stream",
     "text": [
      "\n",
      "Epoch    17\n",
      "Train_cost  = 0.0683 | Test_cost  = 0.0640 | Train_score = 0.8783 | Test_score = 0.8944 |\n",
      "\u001b[31m==> EarlyStop patience =  3 | Best test_score: 0.8998\u001b[0m\n"
     ]
    },
    {
     "name": "stderr",
     "output_type": "stream",
     "text": [
      "Epoch 18: 100%|██████████| 932/932 [11:18<00:00,  1.37it/s]\n",
      "Epoch 18: 100%|██████████| 3313/3313 [01:46<00:00, 31.15it/s]\n"
     ]
    },
    {
     "name": "stdout",
     "output_type": "stream",
     "text": [
      "\n",
      "Epoch    18\n",
      "Train_cost  = 0.0660 | Test_cost  = 0.0642 | Train_score = 0.8821 | Test_score = 0.8948 |\n",
      "\u001b[31m==> EarlyStop patience =  4 | Best test_score: 0.8998\u001b[0m\n",
      "\u001b[31m==> Execute Early Stopping at epoch: 18 | Best test_score: 0.8998\u001b[0m\n",
      "\u001b[31m==> Best model is saved at model\u001b[0m\n"
     ]
    },
    {
     "data": {
      "image/png": "[encoded data removed]",
      "text/plain": [
       "<Figure size 576x360 with 1 Axes>"
      ]
     },
     "metadata": {
      "needs_background": "light"
     },
     "output_type": "display_data"
    },
    {
     "data": {
      "image/png": "[encoded data removed]",
      "text/plain": [
       "<Figure size 576x360 with 1 Axes>"
      ]
     },
     "metadata": {
      "needs_background": "light"
     },
     "output_type": "display_data"
    }
   ],
   "source": [
    "model.unfreeze()\n",
    "modeltrainer.optimizer= torch.optim.AdamW(model.parameters(), lr=1e-5)\n",
    "modeltrainer.scheduler = torch.optim.lr_scheduler.ReduceLROnPlateau(modeltrainer.optimizer,\n",
    "                                                                    mode=\"max\", factor=0.2, \n",
    "                                                                    patience=2)\n",
    "\n",
    "modeltrainer.train(train_dataloader, val_dataloader)"
   ]
  },
  {
   "cell_type": "code",
   "execution_count": 13,
   "metadata": {},
   "outputs": [],
   "source": [
    "model.eval()\n",
    "preds = np.zeros(len(test_dataloader.dataset))\n",
    "with torch.no_grad():\n",
    "    for i, features in enumerate(test_dataloader):\n",
    "        features[0], features[1] = features[0].to(device), features[1].to(device)\n",
    "        pred = torch.sigmoid(model(features))\n",
    "        preds[i] = pred.cpu().item()"
   ]
  },
  {
   "cell_type": "code",
   "execution_count": 14,
   "metadata": {},
   "outputs": [],
   "source": [
    "df_sub = pd.read_csv(\"../input/siim-isic-melanoma-classification/sample_submission.csv\")\n",
    "df_sub[\"target\"] = preds\n",
    "df_sub.to_csv(\"submission.csv\", index=False)"
   ]
  }
 ],
 "metadata": {
  "kernelspec": {
   "display_name": "Python 3",
   "language": "python",
   "name": "python3"
  },
  "language_info": {
   "codemirror_mode": {
    "name": "ipython",
    "version": 3
   },
   "file_extension": ".py",
   "mimetype": "text/x-python",
   "name": "python",
   "nbconvert_exporter": "python",
   "pygments_lexer": "ipython3",
   "version": "3.7.6"
  },
  "widgets": {
   "application/vnd.jupyter.widget-state+json": {
    "state": {
     "2775fe19b4c84e58bbc0bd1b9ef6f801": {
      "model_module": "@jupyter-widgets/controls",
      "model_module_version": "1.5.0",
      "model_name": "HBoxModel",
      "state": {
       "_dom_classes": [],
       "_model_module": "@jupyter-widgets/controls",
       "_model_module_version": "1.5.0",
       "_model_name": "HBoxModel",
       "_view_count": null,
       "_view_module": "@jupyter-widgets/controls",
       "_view_module_version": "1.5.0",
       "_view_name": "HBoxView",
       "box_style": "",
       "children": [
        "IPY_MODEL_c26c4b76828b4abe8f8ea00c69d4be5c",
        "IPY_MODEL_5aa9a28862704a7b95baa9cc22380af4"
       ],
       "layout": "IPY_MODEL_77d9aaf8ab8a4515836004dc30437941"
      }
     },
     "5aa9a28862704a7b95baa9cc22380af4": {
      "model_module": "@jupyter-widgets/controls",
      "model_module_version": "1.5.0",
      "model_name": "HTMLModel",
      "state": {
       "_dom_classes": [],
       "_model_module": "@jupyter-widgets/controls",
       "_model_module_version": "1.5.0",
       "_model_name": "HTMLModel",
       "_view_count": null,
       "_view_module": "@jupyter-widgets/controls",
       "_view_module_version": "1.5.0",
       "_view_name": "HTMLView",
       "description": "",
       "description_tooltip": null,
       "layout": "IPY_MODEL_5bf6cfdba8b741d88160d439fe0e58a6",
       "placeholder": "​",
       "style": "IPY_MODEL_e575f4de7be34a22a5e7605e363708c1",
       "value": " 74.4M/74.4M [00:05&lt;00:00, 13.1MB/s]"
      }
     },
     "5bf6cfdba8b741d88160d439fe0e58a6": {
      "model_module": "@jupyter-widgets/base",
      "model_module_version": "1.2.0",
      "model_name": "LayoutModel",
      "state": {
       "_model_module": "@jupyter-widgets/base",
       "_model_module_version": "1.2.0",
       "_model_name": "LayoutModel",
       "_view_count": null,
       "_view_module": "@jupyter-widgets/base",
       "_view_module_version": "1.2.0",
       "_view_name": "LayoutView",
       "align_content": null,
       "align_items": null,
       "align_self": null,
       "border": null,
       "bottom": null,
       "display": null,
       "flex": null,
       "flex_flow": null,
       "grid_area": null,
       "grid_auto_columns": null,
       "grid_auto_flow": null,
       "grid_auto_rows": null,
       "grid_column": null,
       "grid_gap": null,
       "grid_row": null,
       "grid_template_areas": null,
       "grid_template_columns": null,
       "grid_template_rows": null,
       "height": null,
       "justify_content": null,
       "justify_items": null,
       "left": null,
       "margin": null,
       "max_height": null,
       "max_width": null,
       "min_height": null,
       "min_width": null,
       "object_fit": null,
       "object_position": null,
       "order": null,
       "overflow": null,
       "overflow_x": null,
       "overflow_y": null,
       "padding": null,
       "right": null,
       "top": null,
       "visibility": null,
       "width": null
      }
     },
     "77d9aaf8ab8a4515836004dc30437941": {
      "model_module": "@jupyter-widgets/base",
      "model_module_version": "1.2.0",
      "model_name": "LayoutModel",
      "state": {
       "_model_module": "@jupyter-widgets/base",
       "_model_module_version": "1.2.0",
       "_model_name": "LayoutModel",
       "_view_count": null,
       "_view_module": "@jupyter-widgets/base",
       "_view_module_version": "1.2.0",
       "_view_name": "LayoutView",
       "align_content": null,
       "align_items": null,
       "align_self": null,
       "border": null,
       "bottom": null,
       "display": null,
       "flex": null,
       "flex_flow": null,
       "grid_area": null,
       "grid_auto_columns": null,
       "grid_auto_flow": null,
       "grid_auto_rows": null,
       "grid_column": null,
       "grid_gap": null,
       "grid_row": null,
       "grid_template_areas": null,
       "grid_template_columns": null,
       "grid_template_rows": null,
       "height": null,
       "justify_content": null,
       "justify_items": null,
       "left": null,
       "margin": null,
       "max_height": null,
       "max_width": null,
       "min_height": null,
       "min_width": null,
       "object_fit": null,
       "object_position": null,
       "order": null,
       "overflow": null,
       "overflow_x": null,
       "overflow_y": null,
       "padding": null,
       "right": null,
       "top": null,
       "visibility": null,
       "width": null
      }
     },
     "9299abb746e744b6b1af016ac1d79eb3": {
      "model_module": "@jupyter-widgets/base",
      "model_module_version": "1.2.0",
      "model_name": "LayoutModel",
      "state": {
       "_model_module": "@jupyter-widgets/base",
       "_model_module_version": "1.2.0",
       "_model_name": "LayoutModel",
       "_view_count": null,
       "_view_module": "@jupyter-widgets/base",
       "_view_module_version": "1.2.0",
       "_view_name": "LayoutView",
       "align_content": null,
       "align_items": null,
       "align_self": null,
       "border": null,
       "bottom": null,
       "display": null,
       "flex": null,
       "flex_flow": null,
       "grid_area": null,
       "grid_auto_columns": null,
       "grid_auto_flow": null,
       "grid_auto_rows": null,
       "grid_column": null,
       "grid_gap": null,
       "grid_row": null,
       "grid_template_areas": null,
       "grid_template_columns": null,
       "grid_template_rows": null,
       "height": null,
       "justify_content": null,
       "justify_items": null,
       "left": null,
       "margin": null,
       "max_height": null,
       "max_width": null,
       "min_height": null,
       "min_width": null,
       "object_fit": null,
       "object_position": null,
       "order": null,
       "overflow": null,
       "overflow_x": null,
       "overflow_y": null,
       "padding": null,
       "right": null,
       "top": null,
       "visibility": null,
       "width": null
      }
     },
     "c26c4b76828b4abe8f8ea00c69d4be5c": {
      "model_module": "@jupyter-widgets/controls",
      "model_module_version": "1.5.0",
      "model_name": "FloatProgressModel",
      "state": {
       "_dom_classes": [],
       "_model_module": "@jupyter-widgets/controls",
       "_model_module_version": "1.5.0",
       "_model_name": "FloatProgressModel",
       "_view_count": null,
       "_view_module": "@jupyter-widgets/controls",
       "_view_module_version": "1.5.0",
       "_view_name": "ProgressView",
       "bar_style": "success",
       "description": "100%",
       "description_tooltip": null,
       "layout": "IPY_MODEL_9299abb746e744b6b1af016ac1d79eb3",
       "max": 77999237.0,
       "min": 0.0,
       "orientation": "horizontal",
       "style": "IPY_MODEL_e0f9a2caa52f41d192e394931c9e57eb",
       "value": 77999237.0
      }
     },
     "e0f9a2caa52f41d192e394931c9e57eb": {
      "model_module": "@jupyter-widgets/controls",
      "model_module_version": "1.5.0",
      "model_name": "ProgressStyleModel",
      "state": {
       "_model_module": "@jupyter-widgets/controls",
       "_model_module_version": "1.5.0",
       "_model_name": "ProgressStyleModel",
       "_view_count": null,
       "_view_module": "@jupyter-widgets/base",
       "_view_module_version": "1.2.0",
       "_view_name": "StyleView",
       "bar_color": null,
       "description_width": "initial"
      }
     },
     "e575f4de7be34a22a5e7605e363708c1": {
      "model_module": "@jupyter-widgets/controls",
      "model_module_version": "1.5.0",
      "model_name": "DescriptionStyleModel",
      "state": {
       "_model_module": "@jupyter-widgets/controls",
       "_model_module_version": "1.5.0",
       "_model_name": "DescriptionStyleModel",
       "_view_count": null,
       "_view_module": "@jupyter-widgets/base",
       "_view_module_version": "1.2.0",
       "_view_name": "StyleView",
       "description_width": ""
      }
     }
    },
    "version_major": 2,
    "version_minor": 0
   }
  }
 },
 "nbformat": 4,
 "nbformat_minor": 4
}
